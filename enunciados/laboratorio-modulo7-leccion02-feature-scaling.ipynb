{
 "cells": [
  {
   "cell_type": "markdown",
   "metadata": {},
   "source": [
    "<div style=\"text-align: center;\">\n",
    "  <img src=\"https://github.com/Hack-io-Data/Imagenes/blob/main/01-LogosHackio/logo_naranja@4x.png?raw=true\" alt=\"esquema\" />\n",
    "</div>\n"
   ]
  },
  {
   "cell_type": "markdown",
   "metadata": {},
   "source": [
    "# Laboratorio de Feature Scaling\n",
    "\n",
    "Continuando con nuestro proyecto en AutoRenew, la empresa de coches de segunda mano, en este laboratorio abordarás una fase crucial del preprocesamiento de datos: el **Feature Scaling**. Este paso es esencial para asegurar que todas las características (variables) de los coches se encuentren en la misma escala antes de entrenar los modelos de Machine Learning. Esto evitará que algunas características dominen sobre otras debido a sus rangos de valores diferentes, mejorando así la precisión del modelo predictivo que estás desarrollando.\n",
    "\n",
    "Tu tarea en este laboratorio es aplicar técnicas de Feature Scaling a las características del conjunto de datos que consideres relevantes. Este paso es fundamental para preparar los datos de manera adecuada para el entrenamiento de modelos de Machine Learning, lo que haremos en los próximos ejercicios.\n",
    "\n",
    "**Columnas del conjunto de datos que podrías escalar:**\n",
    "\n",
    "- **price**: Precio del coche.\n",
    "\n",
    "- **powerCV**: Potencia del coche en caballos de vapor (CV).\n",
    "\n",
    "- **kilometer**: Kilometraje total del coche.\n",
    "\n",
    "- **yearOfRegistration**: Año de registro del coche (aunque es una característica temporal, en algunos casos puede necesitar escalado dependiendo del enfoque del modelo).\n",
    "\n",
    "- **monthOfRegistration**: Mes de registro del coche.\n",
    "\n",
    "**Instrucciones:**\n",
    "\n",
    "1. **Identificación de las características a escalar:** Revisa el conjunto de datos y selecciona las columnas que deberían ser escaladas. Estas generalmente incluyen características numéricas continuas como el precio, la potencia y el kilometraje.\n",
    "\n",
    "2. **Aplicación de técnicas de Feature Scaling**\n",
    "\n",
    "\n",
    "3. **Comparación de resultados:** Después de aplicar el escalado, observa cómo han cambiado las distribuciones de las características. Evalúa cuál de las técnicas de escalado es más apropiada para este conjunto de datos y justifica tu elección.\n",
    "\n",
    "**Nota:** Este laboratorio se construye sobre el análisis exploratorio y la gestión de nulos que realizaste anteriormente. Asegúrate de mantener una buena documentación de tus procesos, ya que utilizaremos estos datos escalados en las próximas etapas de modelado de Machine Learning.\n"
   ]
  },
  {
   "cell_type": "code",
   "execution_count": 2,
   "metadata": {},
   "outputs": [],
   "source": [
    "from sklearn.preprocessing import MinMaxScaler, Normalizer, StandardScaler, RobustScaler\n",
    "\n",
    "# Tratamiento de datos\n",
    "# -----------------------------------------------------------------------\n",
    "import pandas as pd\n",
    "import seaborn as sns\n",
    "import matplotlib.pyplot as plt"
   ]
  },
  {
   "cell_type": "code",
   "execution_count": 3,
   "metadata": {},
   "outputs": [],
   "source": [
    "df = pd.read_csv(\"../datos/df_gestion_nulos.csv\", index_col=0)"
   ]
  },
  {
   "cell_type": "markdown",
   "metadata": {},
   "source": [
    "Eliminamos la columna de postal code ya que no es necesaria:"
   ]
  },
  {
   "cell_type": "code",
   "execution_count": 4,
   "metadata": {},
   "outputs": [],
   "source": [
    "df.drop(columns=\"postalCode\", inplace=True)"
   ]
  },
  {
   "cell_type": "code",
   "execution_count": 5,
   "metadata": {},
   "outputs": [
    {
     "data": {
      "text/plain": [
       "dateCrawled             object\n",
       "name                    object\n",
       "seller                  object\n",
       "offerType               object\n",
       "price                    int64\n",
       "abtest                  object\n",
       "vehicleType             object\n",
       "gearbox                 object\n",
       "powerCV                float64\n",
       "model                   object\n",
       "kilometer              float64\n",
       "monthOfRegistration     object\n",
       "fuelType                object\n",
       "brand                   object\n",
       "notRepairedDamage       object\n",
       "dateCreated             object\n",
       "lastSeen                object\n",
       "tipo_coche              object\n",
       "dtype: object"
      ]
     },
     "execution_count": 5,
     "metadata": {},
     "output_type": "execute_result"
    }
   ],
   "source": [
    "df.dtypes"
   ]
  },
  {
   "cell_type": "markdown",
   "metadata": {},
   "source": [
    "Tenemos tres variables numéricas: price, powerCV y kilometer. Ninguna es una normal perfecta y tenemos bastantes outlayers por lo que vamos a probar los algoritmos de RobustScaler y StandardScaler."
   ]
  },
  {
   "cell_type": "code",
   "execution_count": 6,
   "metadata": {},
   "outputs": [],
   "source": [
    "escalador_robust = RobustScaler()\n",
    "datos_transf_robust = escalador_robust.fit_transform(df[[\"powerCV\", \"kilometer\"]])\n",
    "df[[\"powerCV_robust\", \"kilometer_robust\"]] = datos_transf_robust\n",
    "\n",
    "\n",
    "escalador_estandar = StandardScaler()\n",
    "datos_transf_estandar = escalador_estandar.fit_transform(df[[\"powerCV\", \"kilometer\"]])\n",
    "df[[\"powerCV_standar\", \"kilometer_standar\"]] = datos_transf_estandar"
   ]
  },
  {
   "cell_type": "code",
   "execution_count": 7,
   "metadata": {},
   "outputs": [
    {
     "data": {
      "text/html": [
       "<div>\n",
       "<style scoped>\n",
       "    .dataframe tbody tr th:only-of-type {\n",
       "        vertical-align: middle;\n",
       "    }\n",
       "\n",
       "    .dataframe tbody tr th {\n",
       "        vertical-align: top;\n",
       "    }\n",
       "\n",
       "    .dataframe thead th {\n",
       "        text-align: right;\n",
       "    }\n",
       "</style>\n",
       "<table border=\"1\" class=\"dataframe\">\n",
       "  <thead>\n",
       "    <tr style=\"text-align: right;\">\n",
       "      <th></th>\n",
       "      <th>count</th>\n",
       "      <th>mean</th>\n",
       "      <th>std</th>\n",
       "      <th>min</th>\n",
       "      <th>25%</th>\n",
       "      <th>50%</th>\n",
       "      <th>75%</th>\n",
       "      <th>max</th>\n",
       "    </tr>\n",
       "  </thead>\n",
       "  <tbody>\n",
       "    <tr>\n",
       "      <th>price</th>\n",
       "      <td>359184.0</td>\n",
       "      <td>5.579109e+03</td>\n",
       "      <td>6683.597445</td>\n",
       "      <td>1.000000</td>\n",
       "      <td>1250.000000</td>\n",
       "      <td>3000.000000</td>\n",
       "      <td>7350.000000</td>\n",
       "      <td>50000.000000</td>\n",
       "    </tr>\n",
       "    <tr>\n",
       "      <th>powerCV</th>\n",
       "      <td>359184.0</td>\n",
       "      <td>1.240431e+02</td>\n",
       "      <td>56.619404</td>\n",
       "      <td>40.000000</td>\n",
       "      <td>87.000000</td>\n",
       "      <td>120.000000</td>\n",
       "      <td>148.000000</td>\n",
       "      <td>998.000000</td>\n",
       "    </tr>\n",
       "    <tr>\n",
       "      <th>kilometer</th>\n",
       "      <td>359184.0</td>\n",
       "      <td>1.259598e+05</td>\n",
       "      <td>39542.345895</td>\n",
       "      <td>5000.000000</td>\n",
       "      <td>125000.000000</td>\n",
       "      <td>150000.000000</td>\n",
       "      <td>150000.000000</td>\n",
       "      <td>150000.000000</td>\n",
       "    </tr>\n",
       "    <tr>\n",
       "      <th>powerCV_robust</th>\n",
       "      <td>359184.0</td>\n",
       "      <td>6.628072e-02</td>\n",
       "      <td>0.928187</td>\n",
       "      <td>-1.311475</td>\n",
       "      <td>-0.540984</td>\n",
       "      <td>0.000000</td>\n",
       "      <td>0.459016</td>\n",
       "      <td>14.393443</td>\n",
       "    </tr>\n",
       "    <tr>\n",
       "      <th>kilometer_robust</th>\n",
       "      <td>359184.0</td>\n",
       "      <td>-9.616074e-01</td>\n",
       "      <td>1.581694</td>\n",
       "      <td>-5.800000</td>\n",
       "      <td>-1.000000</td>\n",
       "      <td>0.000000</td>\n",
       "      <td>0.000000</td>\n",
       "      <td>0.000000</td>\n",
       "    </tr>\n",
       "    <tr>\n",
       "      <th>powerCV_standar</th>\n",
       "      <td>359184.0</td>\n",
       "      <td>-2.541411e-16</td>\n",
       "      <td>1.000001</td>\n",
       "      <td>-1.484354</td>\n",
       "      <td>-0.654249</td>\n",
       "      <td>-0.071409</td>\n",
       "      <td>0.423122</td>\n",
       "      <td>15.435664</td>\n",
       "    </tr>\n",
       "    <tr>\n",
       "      <th>kilometer_standar</th>\n",
       "      <td>359184.0</td>\n",
       "      <td>4.898057e-17</td>\n",
       "      <td>1.000001</td>\n",
       "      <td>-3.058999</td>\n",
       "      <td>-0.024273</td>\n",
       "      <td>0.607961</td>\n",
       "      <td>0.607961</td>\n",
       "      <td>0.607961</td>\n",
       "    </tr>\n",
       "  </tbody>\n",
       "</table>\n",
       "</div>"
      ],
      "text/plain": [
       "                      count          mean           std          min  \\\n",
       "price              359184.0  5.579109e+03   6683.597445     1.000000   \n",
       "powerCV            359184.0  1.240431e+02     56.619404    40.000000   \n",
       "kilometer          359184.0  1.259598e+05  39542.345895  5000.000000   \n",
       "powerCV_robust     359184.0  6.628072e-02      0.928187    -1.311475   \n",
       "kilometer_robust   359184.0 -9.616074e-01      1.581694    -5.800000   \n",
       "powerCV_standar    359184.0 -2.541411e-16      1.000001    -1.484354   \n",
       "kilometer_standar  359184.0  4.898057e-17      1.000001    -3.058999   \n",
       "\n",
       "                             25%            50%            75%            max  \n",
       "price                1250.000000    3000.000000    7350.000000   50000.000000  \n",
       "powerCV                87.000000     120.000000     148.000000     998.000000  \n",
       "kilometer          125000.000000  150000.000000  150000.000000  150000.000000  \n",
       "powerCV_robust         -0.540984       0.000000       0.459016      14.393443  \n",
       "kilometer_robust       -1.000000       0.000000       0.000000       0.000000  \n",
       "powerCV_standar        -0.654249      -0.071409       0.423122      15.435664  \n",
       "kilometer_standar      -0.024273       0.607961       0.607961       0.607961  "
      ]
     },
     "execution_count": 7,
     "metadata": {},
     "output_type": "execute_result"
    }
   ],
   "source": [
    "df.describe().T"
   ]
  },
  {
   "cell_type": "code",
   "execution_count": 8,
   "metadata": {},
   "outputs": [
    {
     "data": {
      "image/png": "[encoded data removed]",
      "text/plain": [
       "<Figure size 1500x500 with 6 Axes>"
      ]
     },
     "metadata": {},
     "output_type": "display_data"
    }
   ],
   "source": [
    "fig , axes = plt.subplots(nrows=2 , ncols=3, figsize = (15, 5))\n",
    "\n",
    "axes = axes.flat\n",
    "sns.boxplot(x = \"kilometer\", data = df, ax = axes[0])\n",
    "sns.boxplot(x = \"kilometer_robust\", data = df, ax = axes[1])\n",
    "sns.boxplot(x = \"kilometer_standar\", data = df, ax = axes[2])\n",
    "\n",
    "sns.boxplot(x = \"powerCV\", data = df, ax = axes[3])\n",
    "sns.boxplot(x = \"powerCV_robust\", data = df, ax = axes[4])\n",
    "sns.boxplot(x = \"powerCV_standar\", data = df, ax = axes[5])\n",
    "\n",
    "plt.tight_layout()"
   ]
  },
  {
   "cell_type": "markdown",
   "metadata": {},
   "source": [
    "Observando las escalas para ambas columnas numéricas tanto con el robust como con el estándar podemos observar que no hay muchas diferencias. En cuanto a kilómetros, para ambos la media y mediana está rondando el 0, sin embargo, para el escalado robusto están más cerca la media y mediana. Además, para ambos algoritmos a partir de la mediana todos tienen los mismos datos siguiendo el ejemplo de la variable original. En cuanto a powerCV de nuevo media y mediana de ambos escalados está muy cerca de cero, sin embargo, para la robusta la media y mediana se acerca más, además para ambas los máximos y mínimos son muy parecidos. Por lo tanto, es complicado elegir entre una y otra pues sus métricas se parecen bastante, sin embargo, usaría la robusta pues parece que en los kilómetros capan a patir de 150000 y aunque un coche tuviera más kilometros pondrían igualmente 150000. Lo que implica que otros kilometrajes reales recogidos se conviertan en outlayers, pero si que hay que darles importancia a estos outlayers y el escalado robusto los tiene más en cuenta que el estandar. "
   ]
  },
  {
   "cell_type": "markdown",
   "metadata": {},
   "source": [
    "Nos creamos un nuevo dataframe con las columnas del original pero en vez de powerCV y kilometer, nos quedamos con la opción robusta tras la estandarización."
   ]
  },
  {
   "cell_type": "code",
   "execution_count": 16,
   "metadata": {},
   "outputs": [],
   "source": [
    "df_estandarizado = df[['dateCrawled', 'name', 'seller', 'offerType', 'abtest', 'vehicleType', 'gearbox', 'model', 'price',\n",
    "       'monthOfRegistration', 'fuelType', 'brand', 'notRepairedDamage', 'dateCreated', 'lastSeen', 'tipo_coche', 'powerCV_robust', 'kilometer_robust']]"
   ]
  },
  {
   "cell_type": "code",
   "execution_count": 17,
   "metadata": {},
   "outputs": [],
   "source": [
    "df_estandarizado.to_csv(\"../datos/df_estandarizado.csv\")"
   ]
  }
 ],
 "metadata": {
  "kernelspec": {
   "display_name": "Python 3",
   "language": "python",
   "name": "python3"
  },
  "language_info": {
   "codemirror_mode": {
    "name": "ipython",
    "version": 3
   },
   "file_extension": ".py",
   "mimetype": "text/x-python",
   "name": "python",
   "nbconvert_exporter": "python",
   "pygments_lexer": "ipython3",
   "version": "3.11.9"
  }
 },
 "nbformat": 4,
 "nbformat_minor": 2
}
